{
 "cells": [
  {
   "cell_type": "markdown",
   "id": "ad60a712-deb0-46d0-8293-4c77c424e3da",
   "metadata": {},
   "source": [
    "<h2>Competitor Data</h2>"
   ]
  },
  {
   "cell_type": "code",
   "execution_count": 1,
   "id": "d2121975-fdd9-48fa-bb0a-ee2c25b6ea22",
   "metadata": {},
   "outputs": [],
   "source": [
    "# Import Libraries\n",
    "import pandas as pd\n",
    "import numpy as np\n",
    "import matplotlib.pyplot as plt\n",
    "import seaborn as sb\n",
    "import plotly.express as px\n",
    "import warnings\n",
    "warnings.filterwarnings('ignore')"
   ]
  },
  {
   "cell_type": "code",
   "execution_count": 2,
   "id": "1c151b57-fe4a-430a-8521-63e1795ca422",
   "metadata": {},
   "outputs": [],
   "source": [
    "%matplotlib inline"
   ]
  },
  {
   "cell_type": "code",
   "execution_count": 3,
   "id": "7a0e4935-1abf-4334-9787-104cd932e968",
   "metadata": {},
   "outputs": [
    {
     "data": {
      "text/html": [
       "<div>\n",
       "<style scoped>\n",
       "    .dataframe tbody tr th:only-of-type {\n",
       "        vertical-align: middle;\n",
       "    }\n",
       "\n",
       "    .dataframe tbody tr th {\n",
       "        vertical-align: top;\n",
       "    }\n",
       "\n",
       "    .dataframe thead th {\n",
       "        text-align: right;\n",
       "    }\n",
       "</style>\n",
       "<table border=\"1\" class=\"dataframe\">\n",
       "  <thead>\n",
       "    <tr style=\"text-align: right;\">\n",
       "      <th></th>\n",
       "      <th>Competitor ID</th>\n",
       "      <th>Campaign ID</th>\n",
       "      <th>Ad Spend</th>\n",
       "      <th>Impressions</th>\n",
       "      <th>Clicks</th>\n",
       "      <th>Conversions</th>\n",
       "      <th>Sales</th>\n",
       "      <th>Campaign Start Date</th>\n",
       "      <th>Campaign End Date</th>\n",
       "    </tr>\n",
       "  </thead>\n",
       "  <tbody>\n",
       "    <tr>\n",
       "      <th>0</th>\n",
       "      <td>Competitor A</td>\n",
       "      <td>1</td>\n",
       "      <td>1373</td>\n",
       "      <td>432495</td>\n",
       "      <td>24027</td>\n",
       "      <td>3003</td>\n",
       "      <td>786786</td>\n",
       "      <td>2023-07-02</td>\n",
       "      <td>2023-07-07</td>\n",
       "    </tr>\n",
       "    <tr>\n",
       "      <th>1</th>\n",
       "      <td>Competitor C</td>\n",
       "      <td>2</td>\n",
       "      <td>1275</td>\n",
       "      <td>455175</td>\n",
       "      <td>45517</td>\n",
       "      <td>5057</td>\n",
       "      <td>338819</td>\n",
       "      <td>2023-09-03</td>\n",
       "      <td>2023-09-05</td>\n",
       "    </tr>\n",
       "    <tr>\n",
       "      <th>2</th>\n",
       "      <td>Competitor B</td>\n",
       "      <td>3</td>\n",
       "      <td>1406</td>\n",
       "      <td>940614</td>\n",
       "      <td>52256</td>\n",
       "      <td>3483</td>\n",
       "      <td>257742</td>\n",
       "      <td>2023-05-14</td>\n",
       "      <td>2023-05-25</td>\n",
       "    </tr>\n",
       "    <tr>\n",
       "      <th>3</th>\n",
       "      <td>Competitor A</td>\n",
       "      <td>4</td>\n",
       "      <td>1820</td>\n",
       "      <td>1126580</td>\n",
       "      <td>62587</td>\n",
       "      <td>6258</td>\n",
       "      <td>1983786</td>\n",
       "      <td>2023-06-22</td>\n",
       "      <td>2023-07-16</td>\n",
       "    </tr>\n",
       "    <tr>\n",
       "      <th>4</th>\n",
       "      <td>Competitor C</td>\n",
       "      <td>5</td>\n",
       "      <td>1216</td>\n",
       "      <td>464512</td>\n",
       "      <td>27324</td>\n",
       "      <td>3036</td>\n",
       "      <td>789360</td>\n",
       "      <td>2023-11-16</td>\n",
       "      <td>2023-12-04</td>\n",
       "    </tr>\n",
       "  </tbody>\n",
       "</table>\n",
       "</div>"
      ],
      "text/plain": [
       "  Competitor ID  Campaign ID  Ad Spend  Impressions  Clicks  Conversions  \\\n",
       "0  Competitor A            1      1373       432495   24027         3003   \n",
       "1  Competitor C            2      1275       455175   45517         5057   \n",
       "2  Competitor B            3      1406       940614   52256         3483   \n",
       "3  Competitor A            4      1820      1126580   62587         6258   \n",
       "4  Competitor C            5      1216       464512   27324         3036   \n",
       "\n",
       "     Sales Campaign Start Date Campaign End Date  \n",
       "0   786786          2023-07-02        2023-07-07  \n",
       "1   338819          2023-09-03        2023-09-05  \n",
       "2   257742          2023-05-14        2023-05-25  \n",
       "3  1983786          2023-06-22        2023-07-16  \n",
       "4   789360          2023-11-16        2023-12-04  "
      ]
     },
     "execution_count": 3,
     "metadata": {},
     "output_type": "execute_result"
    }
   ],
   "source": [
    "# Read Data and View first five rows\n",
    "df = pd.read_csv('competitor_campaigns.csv')\n",
    "df.head()"
   ]
  },
  {
   "cell_type": "code",
   "execution_count": 5,
   "id": "836fedc5-c422-40e1-9afb-80f6e59685ab",
   "metadata": {},
   "outputs": [
    {
     "data": {
      "text/plain": [
       "Index(['Competitor ID', 'Campaign ID', 'Ad Spend', 'Impressions', 'Clicks',\n",
       "       'Conversions', 'Sales', 'Campaign Start Date', 'Campaign End Date'],\n",
       "      dtype='object')"
      ]
     },
     "execution_count": 5,
     "metadata": {},
     "output_type": "execute_result"
    }
   ],
   "source": [
    "# check for number of columns\n",
    "df.columns"
   ]
  },
  {
   "cell_type": "code",
   "execution_count": 6,
   "id": "2974ed5d-c2dd-4514-8514-51047f476c28",
   "metadata": {},
   "outputs": [
    {
     "data": {
      "text/plain": [
       "(100, 9)"
      ]
     },
     "execution_count": 6,
     "metadata": {},
     "output_type": "execute_result"
    }
   ],
   "source": [
    "# Shape of data\n",
    "df.shape"
   ]
  },
  {
   "cell_type": "code",
   "execution_count": 7,
   "id": "39af51ab-dfcd-415b-b4f2-cfd5581349eb",
   "metadata": {},
   "outputs": [
    {
     "data": {
      "text/plain": [
       "9"
      ]
     },
     "execution_count": 7,
     "metadata": {},
     "output_type": "execute_result"
    }
   ],
   "source": [
    "# Length of columns\n",
    "len(df.columns)"
   ]
  },
  {
   "cell_type": "code",
   "execution_count": 8,
   "id": "acc12055-97f2-49cd-92ab-35f1a01efe6e",
   "metadata": {},
   "outputs": [
    {
     "name": "stdout",
     "output_type": "stream",
     "text": [
      "<class 'pandas.core.frame.DataFrame'>\n",
      "RangeIndex: 100 entries, 0 to 99\n",
      "Data columns (total 9 columns):\n",
      " #   Column               Non-Null Count  Dtype \n",
      "---  ------               --------------  ----- \n",
      " 0   Competitor ID        100 non-null    object\n",
      " 1   Campaign ID          100 non-null    int64 \n",
      " 2   Ad Spend             100 non-null    int64 \n",
      " 3   Impressions          100 non-null    int64 \n",
      " 4   Clicks               100 non-null    int64 \n",
      " 5   Conversions          100 non-null    int64 \n",
      " 6   Sales                100 non-null    int64 \n",
      " 7   Campaign Start Date  100 non-null    object\n",
      " 8   Campaign End Date    100 non-null    object\n",
      "dtypes: int64(6), object(3)\n",
      "memory usage: 7.2+ KB\n"
     ]
    }
   ],
   "source": [
    "# Check for data info\n",
    "df.info()"
   ]
  },
  {
   "cell_type": "code",
   "execution_count": 9,
   "id": "76fc4f93-8e73-4e69-8364-2aed78ac1946",
   "metadata": {},
   "outputs": [
    {
     "name": "stdout",
     "output_type": "stream",
     "text": [
      "<class 'pandas.core.series.Series'>\n",
      "RangeIndex: 100 entries, 0 to 99\n",
      "Series name: Campaign Start Date\n",
      "Non-Null Count  Dtype         \n",
      "--------------  -----         \n",
      "100 non-null    datetime64[ns]\n",
      "dtypes: datetime64[ns](1)\n",
      "memory usage: 932.0 bytes\n"
     ]
    }
   ],
   "source": [
    "# Convert date column\n",
    "df['Campaign Start Date'] = pd.to_datetime(df['Campaign Start Date'])\n",
    "df['Campaign Start Date'].info()"
   ]
  },
  {
   "cell_type": "code",
   "execution_count": 10,
   "id": "da6d89ef-97f6-4ec9-b545-31ba12fba440",
   "metadata": {},
   "outputs": [
    {
     "name": "stdout",
     "output_type": "stream",
     "text": [
      "<class 'pandas.core.series.Series'>\n",
      "RangeIndex: 100 entries, 0 to 99\n",
      "Series name: Campaign Start Date\n",
      "Non-Null Count  Dtype         \n",
      "--------------  -----         \n",
      "100 non-null    datetime64[ns]\n",
      "dtypes: datetime64[ns](1)\n",
      "memory usage: 932.0 bytes\n"
     ]
    }
   ],
   "source": [
    "df['Campaign End Date'] = pd.to_datetime(df['Campaign End Date'])\n",
    "df['Campaign Start Date'].info()"
   ]
  },
  {
   "cell_type": "markdown",
   "id": "3580440f-5053-437c-ac13-3a822ec3b6a0",
   "metadata": {},
   "source": [
    "<h2>EDA -- Exploratory Data Analysis</h2>\n",
    "<p>Start date</p>"
   ]
  },
  {
   "cell_type": "code",
   "execution_count": 11,
   "id": "a55da057-321d-43b7-81e7-a662f17ea699",
   "metadata": {},
   "outputs": [],
   "source": [
    "# Copy data\n",
    "df1 = df[:]"
   ]
  },
  {
   "cell_type": "code",
   "execution_count": 12,
   "id": "9bdd72f6-a350-4011-a80e-0ac7e5ae8c76",
   "metadata": {},
   "outputs": [
    {
     "data": {
      "text/html": [
       "<div>\n",
       "<style scoped>\n",
       "    .dataframe tbody tr th:only-of-type {\n",
       "        vertical-align: middle;\n",
       "    }\n",
       "\n",
       "    .dataframe tbody tr th {\n",
       "        vertical-align: top;\n",
       "    }\n",
       "\n",
       "    .dataframe thead th {\n",
       "        text-align: right;\n",
       "    }\n",
       "</style>\n",
       "<table border=\"1\" class=\"dataframe\">\n",
       "  <thead>\n",
       "    <tr style=\"text-align: right;\">\n",
       "      <th></th>\n",
       "      <th>Competitor ID</th>\n",
       "      <th>Campaign ID</th>\n",
       "      <th>Ad Spend</th>\n",
       "      <th>Impressions</th>\n",
       "      <th>Clicks</th>\n",
       "      <th>Conversions</th>\n",
       "      <th>Sales</th>\n",
       "      <th>Campaign Start Date</th>\n",
       "      <th>Campaign End Date</th>\n",
       "    </tr>\n",
       "  </thead>\n",
       "  <tbody>\n",
       "    <tr>\n",
       "      <th>95</th>\n",
       "      <td>Competitor B</td>\n",
       "      <td>96</td>\n",
       "      <td>650</td>\n",
       "      <td>458900</td>\n",
       "      <td>41718</td>\n",
       "      <td>3792</td>\n",
       "      <td>1190688</td>\n",
       "      <td>2023-04-14</td>\n",
       "      <td>2023-04-21</td>\n",
       "    </tr>\n",
       "    <tr>\n",
       "      <th>96</th>\n",
       "      <td>Competitor C</td>\n",
       "      <td>97</td>\n",
       "      <td>1228</td>\n",
       "      <td>1200984</td>\n",
       "      <td>70646</td>\n",
       "      <td>11774</td>\n",
       "      <td>3438008</td>\n",
       "      <td>2023-06-08</td>\n",
       "      <td>2023-06-16</td>\n",
       "    </tr>\n",
       "    <tr>\n",
       "      <th>97</th>\n",
       "      <td>Competitor C</td>\n",
       "      <td>98</td>\n",
       "      <td>1746</td>\n",
       "      <td>1534734</td>\n",
       "      <td>85263</td>\n",
       "      <td>14210</td>\n",
       "      <td>5499270</td>\n",
       "      <td>2023-02-22</td>\n",
       "      <td>2023-03-01</td>\n",
       "    </tr>\n",
       "    <tr>\n",
       "      <th>98</th>\n",
       "      <td>Competitor B</td>\n",
       "      <td>99</td>\n",
       "      <td>775</td>\n",
       "      <td>727725</td>\n",
       "      <td>38301</td>\n",
       "      <td>2946</td>\n",
       "      <td>730608</td>\n",
       "      <td>2023-07-26</td>\n",
       "      <td>2023-07-28</td>\n",
       "    </tr>\n",
       "    <tr>\n",
       "      <th>99</th>\n",
       "      <td>Competitor A</td>\n",
       "      <td>100</td>\n",
       "      <td>1370</td>\n",
       "      <td>632940</td>\n",
       "      <td>48687</td>\n",
       "      <td>8114</td>\n",
       "      <td>4024544</td>\n",
       "      <td>2023-03-07</td>\n",
       "      <td>2023-03-31</td>\n",
       "    </tr>\n",
       "  </tbody>\n",
       "</table>\n",
       "</div>"
      ],
      "text/plain": [
       "   Competitor ID  Campaign ID  Ad Spend  Impressions  Clicks  Conversions  \\\n",
       "95  Competitor B           96       650       458900   41718         3792   \n",
       "96  Competitor C           97      1228      1200984   70646        11774   \n",
       "97  Competitor C           98      1746      1534734   85263        14210   \n",
       "98  Competitor B           99       775       727725   38301         2946   \n",
       "99  Competitor A          100      1370       632940   48687         8114   \n",
       "\n",
       "      Sales Campaign Start Date Campaign End Date  \n",
       "95  1190688          2023-04-14        2023-04-21  \n",
       "96  3438008          2023-06-08        2023-06-16  \n",
       "97  5499270          2023-02-22        2023-03-01  \n",
       "98   730608          2023-07-26        2023-07-28  \n",
       "99  4024544          2023-03-07        2023-03-31  "
      ]
     },
     "execution_count": 12,
     "metadata": {},
     "output_type": "execute_result"
    }
   ],
   "source": [
    "# View data\n",
    "df1.tail()"
   ]
  },
  {
   "cell_type": "code",
   "execution_count": 13,
   "id": "d2b43536-8739-4ed0-886e-5a4ec584f82e",
   "metadata": {},
   "outputs": [],
   "source": [
    "df1.index = df['Campaign Start Date']"
   ]
  },
  {
   "cell_type": "code",
   "execution_count": 14,
   "id": "19fe192d-52d3-4955-8a06-ee1da7d8c322",
   "metadata": {},
   "outputs": [
    {
     "data": {
      "text/html": [
       "<div>\n",
       "<style scoped>\n",
       "    .dataframe tbody tr th:only-of-type {\n",
       "        vertical-align: middle;\n",
       "    }\n",
       "\n",
       "    .dataframe tbody tr th {\n",
       "        vertical-align: top;\n",
       "    }\n",
       "\n",
       "    .dataframe thead th {\n",
       "        text-align: right;\n",
       "    }\n",
       "</style>\n",
       "<table border=\"1\" class=\"dataframe\">\n",
       "  <thead>\n",
       "    <tr style=\"text-align: right;\">\n",
       "      <th></th>\n",
       "      <th>Competitor ID</th>\n",
       "      <th>Campaign ID</th>\n",
       "      <th>Ad Spend</th>\n",
       "      <th>Impressions</th>\n",
       "      <th>Clicks</th>\n",
       "      <th>Conversions</th>\n",
       "      <th>Sales</th>\n",
       "      <th>Campaign Start Date</th>\n",
       "      <th>Campaign End Date</th>\n",
       "    </tr>\n",
       "    <tr>\n",
       "      <th>Campaign Start Date</th>\n",
       "      <th></th>\n",
       "      <th></th>\n",
       "      <th></th>\n",
       "      <th></th>\n",
       "      <th></th>\n",
       "      <th></th>\n",
       "      <th></th>\n",
       "      <th></th>\n",
       "      <th></th>\n",
       "    </tr>\n",
       "  </thead>\n",
       "  <tbody>\n",
       "    <tr>\n",
       "      <th>2023-04-14</th>\n",
       "      <td>Competitor B</td>\n",
       "      <td>96</td>\n",
       "      <td>650</td>\n",
       "      <td>458900</td>\n",
       "      <td>41718</td>\n",
       "      <td>3792</td>\n",
       "      <td>1190688</td>\n",
       "      <td>2023-04-14</td>\n",
       "      <td>2023-04-21</td>\n",
       "    </tr>\n",
       "    <tr>\n",
       "      <th>2023-06-08</th>\n",
       "      <td>Competitor C</td>\n",
       "      <td>97</td>\n",
       "      <td>1228</td>\n",
       "      <td>1200984</td>\n",
       "      <td>70646</td>\n",
       "      <td>11774</td>\n",
       "      <td>3438008</td>\n",
       "      <td>2023-06-08</td>\n",
       "      <td>2023-06-16</td>\n",
       "    </tr>\n",
       "    <tr>\n",
       "      <th>2023-02-22</th>\n",
       "      <td>Competitor C</td>\n",
       "      <td>98</td>\n",
       "      <td>1746</td>\n",
       "      <td>1534734</td>\n",
       "      <td>85263</td>\n",
       "      <td>14210</td>\n",
       "      <td>5499270</td>\n",
       "      <td>2023-02-22</td>\n",
       "      <td>2023-03-01</td>\n",
       "    </tr>\n",
       "    <tr>\n",
       "      <th>2023-07-26</th>\n",
       "      <td>Competitor B</td>\n",
       "      <td>99</td>\n",
       "      <td>775</td>\n",
       "      <td>727725</td>\n",
       "      <td>38301</td>\n",
       "      <td>2946</td>\n",
       "      <td>730608</td>\n",
       "      <td>2023-07-26</td>\n",
       "      <td>2023-07-28</td>\n",
       "    </tr>\n",
       "    <tr>\n",
       "      <th>2023-03-07</th>\n",
       "      <td>Competitor A</td>\n",
       "      <td>100</td>\n",
       "      <td>1370</td>\n",
       "      <td>632940</td>\n",
       "      <td>48687</td>\n",
       "      <td>8114</td>\n",
       "      <td>4024544</td>\n",
       "      <td>2023-03-07</td>\n",
       "      <td>2023-03-31</td>\n",
       "    </tr>\n",
       "  </tbody>\n",
       "</table>\n",
       "</div>"
      ],
      "text/plain": [
       "                    Competitor ID  Campaign ID  Ad Spend  Impressions  Clicks  \\\n",
       "Campaign Start Date                                                             \n",
       "2023-04-14           Competitor B           96       650       458900   41718   \n",
       "2023-06-08           Competitor C           97      1228      1200984   70646   \n",
       "2023-02-22           Competitor C           98      1746      1534734   85263   \n",
       "2023-07-26           Competitor B           99       775       727725   38301   \n",
       "2023-03-07           Competitor A          100      1370       632940   48687   \n",
       "\n",
       "                     Conversions    Sales Campaign Start Date  \\\n",
       "Campaign Start Date                                             \n",
       "2023-04-14                  3792  1190688          2023-04-14   \n",
       "2023-06-08                 11774  3438008          2023-06-08   \n",
       "2023-02-22                 14210  5499270          2023-02-22   \n",
       "2023-07-26                  2946   730608          2023-07-26   \n",
       "2023-03-07                  8114  4024544          2023-03-07   \n",
       "\n",
       "                    Campaign End Date  \n",
       "Campaign Start Date                    \n",
       "2023-04-14                 2023-04-21  \n",
       "2023-06-08                 2023-06-16  \n",
       "2023-02-22                 2023-03-01  \n",
       "2023-07-26                 2023-07-28  \n",
       "2023-03-07                 2023-03-31  "
      ]
     },
     "execution_count": 14,
     "metadata": {},
     "output_type": "execute_result"
    }
   ],
   "source": [
    "df1.tail()"
   ]
  },
  {
   "cell_type": "code",
   "execution_count": 15,
   "id": "301dc926-64e3-4a7f-a37a-e9d8120b7c55",
   "metadata": {},
   "outputs": [],
   "source": [
    "df.drop(columns='Campaign Start Date', inplace=True)"
   ]
  },
  {
   "cell_type": "code",
   "execution_count": 23,
   "id": "fb942eba-e09a-48b7-91a5-7b6e7c690293",
   "metadata": {},
   "outputs": [
    {
     "data": {
      "text/plain": [
       "Text(0, 0.5, 'Frequency')"
      ]
     },
     "execution_count": 23,
     "metadata": {},
     "output_type": "execute_result"
    },
    {
     "data": {
      "image/png": "[encoded data removed]",
      "text/plain": [
       "<Figure size 640x480 with 1 Axes>"
      ]
     },
     "metadata": {},
     "output_type": "display_data"
    }
   ],
   "source": [
    "df1['Impressions'].plot()\n",
    "plt.xlabel('Impressions')\n",
    "plt.title('Impression During Start date')\n",
    "plt.ylabel('Frequency')"
   ]
  },
  {
   "cell_type": "code",
   "execution_count": 22,
   "id": "c1fa2e2a-6329-468b-af15-6786d64dacfb",
   "metadata": {},
   "outputs": [
    {
     "data": {
      "text/html": [
       "<div>\n",
       "<style scoped>\n",
       "    .dataframe tbody tr th:only-of-type {\n",
       "        vertical-align: middle;\n",
       "    }\n",
       "\n",
       "    .dataframe tbody tr th {\n",
       "        vertical-align: top;\n",
       "    }\n",
       "\n",
       "    .dataframe thead th {\n",
       "        text-align: right;\n",
       "    }\n",
       "</style>\n",
       "<table border=\"1\" class=\"dataframe\">\n",
       "  <thead>\n",
       "    <tr style=\"text-align: right;\">\n",
       "      <th></th>\n",
       "      <th>count</th>\n",
       "      <th>mean</th>\n",
       "      <th>min</th>\n",
       "      <th>25%</th>\n",
       "      <th>50%</th>\n",
       "      <th>75%</th>\n",
       "      <th>max</th>\n",
       "      <th>std</th>\n",
       "    </tr>\n",
       "  </thead>\n",
       "  <tbody>\n",
       "    <tr>\n",
       "      <th>Campaign ID</th>\n",
       "      <td>100.0</td>\n",
       "      <td>50.5</td>\n",
       "      <td>1.0</td>\n",
       "      <td>25.75</td>\n",
       "      <td>50.5</td>\n",
       "      <td>75.25</td>\n",
       "      <td>100.0</td>\n",
       "      <td>29.011492</td>\n",
       "    </tr>\n",
       "    <tr>\n",
       "      <th>Ad Spend</th>\n",
       "      <td>100.0</td>\n",
       "      <td>1272.58</td>\n",
       "      <td>575.0</td>\n",
       "      <td>1013.5</td>\n",
       "      <td>1267.5</td>\n",
       "      <td>1577.5</td>\n",
       "      <td>1972.0</td>\n",
       "      <td>389.009729</td>\n",
       "    </tr>\n",
       "    <tr>\n",
       "      <th>Impressions</th>\n",
       "      <td>100.0</td>\n",
       "      <td>753573.7</td>\n",
       "      <td>106080.0</td>\n",
       "      <td>417633.0</td>\n",
       "      <td>700441.0</td>\n",
       "      <td>1078374.0</td>\n",
       "      <td>1751588.0</td>\n",
       "      <td>422861.435151</td>\n",
       "    </tr>\n",
       "    <tr>\n",
       "      <th>Clicks</th>\n",
       "      <td>100.0</td>\n",
       "      <td>52268.05</td>\n",
       "      <td>5583.0</td>\n",
       "      <td>28818.75</td>\n",
       "      <td>45740.0</td>\n",
       "      <td>70673.75</td>\n",
       "      <td>154644.0</td>\n",
       "      <td>32338.556</td>\n",
       "    </tr>\n",
       "    <tr>\n",
       "      <th>Conversions</th>\n",
       "      <td>100.0</td>\n",
       "      <td>5774.51</td>\n",
       "      <td>398.0</td>\n",
       "      <td>2961.75</td>\n",
       "      <td>4918.0</td>\n",
       "      <td>8031.75</td>\n",
       "      <td>23354.0</td>\n",
       "      <td>4143.6358</td>\n",
       "    </tr>\n",
       "    <tr>\n",
       "      <th>Sales</th>\n",
       "      <td>100.0</td>\n",
       "      <td>1539478.33</td>\n",
       "      <td>85373.0</td>\n",
       "      <td>594816.0</td>\n",
       "      <td>1131468.5</td>\n",
       "      <td>2160520.25</td>\n",
       "      <td>6375642.0</td>\n",
       "      <td>1323090.003391</td>\n",
       "    </tr>\n",
       "    <tr>\n",
       "      <th>Campaign Start Date</th>\n",
       "      <td>100</td>\n",
       "      <td>2023-07-08 12:43:12</td>\n",
       "      <td>2023-01-07 00:00:00</td>\n",
       "      <td>2023-04-13 00:00:00</td>\n",
       "      <td>2023-07-01 12:00:00</td>\n",
       "      <td>2023-10-11 00:00:00</td>\n",
       "      <td>2023-12-28 00:00:00</td>\n",
       "      <td>NaN</td>\n",
       "    </tr>\n",
       "    <tr>\n",
       "      <th>Campaign End Date</th>\n",
       "      <td>100</td>\n",
       "      <td>2023-07-23 12:57:36</td>\n",
       "      <td>2023-01-11 00:00:00</td>\n",
       "      <td>2023-04-27 18:00:00</td>\n",
       "      <td>2023-07-18 12:00:00</td>\n",
       "      <td>2023-10-23 00:00:00</td>\n",
       "      <td>2024-01-17 00:00:00</td>\n",
       "      <td>NaN</td>\n",
       "    </tr>\n",
       "  </tbody>\n",
       "</table>\n",
       "</div>"
      ],
      "text/plain": [
       "                     count                 mean                  min  \\\n",
       "Campaign ID          100.0                 50.5                  1.0   \n",
       "Ad Spend             100.0              1272.58                575.0   \n",
       "Impressions          100.0             753573.7             106080.0   \n",
       "Clicks               100.0             52268.05               5583.0   \n",
       "Conversions          100.0              5774.51                398.0   \n",
       "Sales                100.0           1539478.33              85373.0   \n",
       "Campaign Start Date    100  2023-07-08 12:43:12  2023-01-07 00:00:00   \n",
       "Campaign End Date      100  2023-07-23 12:57:36  2023-01-11 00:00:00   \n",
       "\n",
       "                                     25%                  50%  \\\n",
       "Campaign ID                        25.75                 50.5   \n",
       "Ad Spend                          1013.5               1267.5   \n",
       "Impressions                     417633.0             700441.0   \n",
       "Clicks                          28818.75              45740.0   \n",
       "Conversions                      2961.75               4918.0   \n",
       "Sales                           594816.0            1131468.5   \n",
       "Campaign Start Date  2023-04-13 00:00:00  2023-07-01 12:00:00   \n",
       "Campaign End Date    2023-04-27 18:00:00  2023-07-18 12:00:00   \n",
       "\n",
       "                                     75%                  max             std  \n",
       "Campaign ID                        75.25                100.0       29.011492  \n",
       "Ad Spend                          1577.5               1972.0      389.009729  \n",
       "Impressions                    1078374.0            1751588.0   422861.435151  \n",
       "Clicks                          70673.75             154644.0       32338.556  \n",
       "Conversions                      8031.75              23354.0       4143.6358  \n",
       "Sales                         2160520.25            6375642.0  1323090.003391  \n",
       "Campaign Start Date  2023-10-11 00:00:00  2023-12-28 00:00:00             NaN  \n",
       "Campaign End Date    2023-10-23 00:00:00  2024-01-17 00:00:00             NaN  "
      ]
     },
     "execution_count": 22,
     "metadata": {},
     "output_type": "execute_result"
    }
   ],
   "source": [
    "# Statistical Overview\n",
    "df1.describe().T"
   ]
  },
  {
   "cell_type": "code",
   "execution_count": 21,
   "id": "ace47fde-4cda-4d21-a8bc-b44aa3b5643d",
   "metadata": {},
   "outputs": [
    {
     "data": {
      "text/plain": [
       "178811793338.0303"
      ]
     },
     "execution_count": 21,
     "metadata": {},
     "output_type": "execute_result"
    }
   ],
   "source": [
    "#Single spread\n",
    "df1['Impressions'].var()"
   ]
  },
  {
   "cell_type": "code",
   "execution_count": 26,
   "id": "490c8153-24d9-423b-a303-10152ce221cb",
   "metadata": {},
   "outputs": [],
   "source": [
    "# Aggregate\n",
    "def range(Series):\n",
    "    return Series.max() - Series.min()"
   ]
  },
  {
   "cell_type": "code",
   "execution_count": 27,
   "id": "bd5a3f0a-08a7-43b9-b594-1a2cd4c1c839",
   "metadata": {},
   "outputs": [
    {
     "data": {
      "text/plain": [
       "Impressions    1645508\n",
       "Clicks          149061\n",
       "Conversions      22956\n",
       "Sales          6290269\n",
       "dtype: int64"
      ]
     },
     "execution_count": 27,
     "metadata": {},
     "output_type": "execute_result"
    }
   ],
   "source": [
    "df1[['Impressions','Clicks','Conversions','Sales']].agg(range)"
   ]
  },
  {
   "cell_type": "code",
   "execution_count": 29,
   "id": "2e031707-b3c4-4db5-bc8d-cab4ea55094e",
   "metadata": {},
   "outputs": [
    {
     "name": "stdout",
     "output_type": "stream",
     "text": [
      "Standard deviation for Campaign ID\n",
      "29.011491975882016\n",
      "*****\n",
      " \n",
      "Standard deviation for Ad Spend\n",
      "389.00972904662586\n",
      "*****\n",
      " \n",
      "Standard deviation for Impressions\n",
      "422861.43515107915\n",
      "*****\n",
      " \n",
      "Standard deviation for Clicks\n",
      "32338.55600006272\n",
      "*****\n",
      " \n",
      "Standard deviation for Conversions\n",
      "4143.635800400855\n",
      "*****\n",
      " \n",
      "Standard deviation for Sales\n",
      "1323090.0033905713\n",
      "*****\n",
      " \n",
      "Standard deviation for Campaign End Date\n",
      "102 days 21:17:12.973887389\n",
      "*****\n",
      " \n"
     ]
    }
   ],
   "source": [
    "for i in df.describe():\n",
    "    print(f'Standard deviation for {i}')\n",
    "    print(df1[i].std())\n",
    "    print('*' * 5)\n",
    "    print(\" \")"
   ]
  },
  {
   "cell_type": "code",
   "execution_count": 33,
   "id": "8b5035c8-f819-4c5b-9319-737cfb6710ba",
   "metadata": {},
   "outputs": [
    {
     "data": {
      "text/html": [
       "<div>\n",
       "<style scoped>\n",
       "    .dataframe tbody tr th:only-of-type {\n",
       "        vertical-align: middle;\n",
       "    }\n",
       "\n",
       "    .dataframe tbody tr th {\n",
       "        vertical-align: top;\n",
       "    }\n",
       "\n",
       "    .dataframe thead th {\n",
       "        text-align: right;\n",
       "    }\n",
       "</style>\n",
       "<table border=\"1\" class=\"dataframe\">\n",
       "  <thead>\n",
       "    <tr style=\"text-align: right;\">\n",
       "      <th>Campaign End Date</th>\n",
       "      <th>2023-01-11</th>\n",
       "      <th>2023-01-26</th>\n",
       "      <th>2023-01-31</th>\n",
       "      <th>2023-02-09</th>\n",
       "      <th>2023-02-14</th>\n",
       "      <th>2023-02-15</th>\n",
       "      <th>2023-02-25</th>\n",
       "      <th>2023-02-27</th>\n",
       "      <th>2023-03-01</th>\n",
       "      <th>2023-03-02</th>\n",
       "      <th>...</th>\n",
       "      <th>2023-12-18</th>\n",
       "      <th>2023-12-19</th>\n",
       "      <th>2023-12-21</th>\n",
       "      <th>2023-12-23</th>\n",
       "      <th>2023-12-25</th>\n",
       "      <th>2023-12-29</th>\n",
       "      <th>2024-01-05</th>\n",
       "      <th>2024-01-09</th>\n",
       "      <th>2024-01-11</th>\n",
       "      <th>2024-01-17</th>\n",
       "    </tr>\n",
       "  </thead>\n",
       "  <tbody>\n",
       "    <tr>\n",
       "      <th>Ad Spend</th>\n",
       "      <td>918.0</td>\n",
       "      <td>1232.0</td>\n",
       "      <td>1315.0</td>\n",
       "      <td>1280.0</td>\n",
       "      <td>1592.0</td>\n",
       "      <td>683.0</td>\n",
       "      <td>664.0</td>\n",
       "      <td>1961.0</td>\n",
       "      <td>1811.0</td>\n",
       "      <td>722.0</td>\n",
       "      <td>...</td>\n",
       "      <td>1274.0</td>\n",
       "      <td>1581.0</td>\n",
       "      <td>1416.0</td>\n",
       "      <td>1455.0</td>\n",
       "      <td>1352.0</td>\n",
       "      <td>1045.0</td>\n",
       "      <td>1579.0</td>\n",
       "      <td>861.0</td>\n",
       "      <td>1018.0</td>\n",
       "      <td>1443.0</td>\n",
       "    </tr>\n",
       "    <tr>\n",
       "      <th>Clicks</th>\n",
       "      <td>18622.0</td>\n",
       "      <td>116177.0</td>\n",
       "      <td>24985.0</td>\n",
       "      <td>71893.0</td>\n",
       "      <td>36335.0</td>\n",
       "      <td>14471.0</td>\n",
       "      <td>44079.0</td>\n",
       "      <td>104687.0</td>\n",
       "      <td>89594.0</td>\n",
       "      <td>16353.0</td>\n",
       "      <td>...</td>\n",
       "      <td>12740.0</td>\n",
       "      <td>143712.0</td>\n",
       "      <td>67047.0</td>\n",
       "      <td>46046.0</td>\n",
       "      <td>43714.0</td>\n",
       "      <td>92796.0</td>\n",
       "      <td>118182.0</td>\n",
       "      <td>61069.0</td>\n",
       "      <td>39794.0</td>\n",
       "      <td>16113.0</td>\n",
       "    </tr>\n",
       "    <tr>\n",
       "      <th>Conversions</th>\n",
       "      <td>1241.0</td>\n",
       "      <td>12908.0</td>\n",
       "      <td>1665.0</td>\n",
       "      <td>4792.0</td>\n",
       "      <td>6055.0</td>\n",
       "      <td>1447.0</td>\n",
       "      <td>3673.0</td>\n",
       "      <td>6979.0</td>\n",
       "      <td>12323.0</td>\n",
       "      <td>2044.0</td>\n",
       "      <td>...</td>\n",
       "      <td>849.0</td>\n",
       "      <td>10265.0</td>\n",
       "      <td>8380.0</td>\n",
       "      <td>3289.0</td>\n",
       "      <td>3362.0</td>\n",
       "      <td>8436.0</td>\n",
       "      <td>10743.0</td>\n",
       "      <td>8724.0</td>\n",
       "      <td>5684.0</td>\n",
       "      <td>1464.0</td>\n",
       "    </tr>\n",
       "    <tr>\n",
       "      <th>Impressions</th>\n",
       "      <td>260712.0</td>\n",
       "      <td>1161776.0</td>\n",
       "      <td>274835.0</td>\n",
       "      <td>862720.0</td>\n",
       "      <td>617696.0</td>\n",
       "      <td>231537.0</td>\n",
       "      <td>573032.0</td>\n",
       "      <td>1360934.0</td>\n",
       "      <td>1471805.0</td>\n",
       "      <td>327066.0</td>\n",
       "      <td>...</td>\n",
       "      <td>242060.0</td>\n",
       "      <td>1437129.0</td>\n",
       "      <td>1340952.0</td>\n",
       "      <td>782790.0</td>\n",
       "      <td>786864.0</td>\n",
       "      <td>927960.0</td>\n",
       "      <td>1536367.0</td>\n",
       "      <td>854973.0</td>\n",
       "      <td>437740.0</td>\n",
       "      <td>290043.0</td>\n",
       "    </tr>\n",
       "  </tbody>\n",
       "</table>\n",
       "<p>4 rows × 89 columns</p>\n",
       "</div>"
      ],
      "text/plain": [
       "Campaign End Date  2023-01-11  2023-01-26  2023-01-31  2023-02-09  2023-02-14  \\\n",
       "Ad Spend                918.0      1232.0      1315.0      1280.0      1592.0   \n",
       "Clicks                18622.0    116177.0     24985.0     71893.0     36335.0   \n",
       "Conversions            1241.0     12908.0      1665.0      4792.0      6055.0   \n",
       "Impressions          260712.0   1161776.0    274835.0    862720.0    617696.0   \n",
       "\n",
       "Campaign End Date  2023-02-15  2023-02-25  2023-02-27  2023-03-01  2023-03-02  \\\n",
       "Ad Spend                683.0       664.0      1961.0      1811.0       722.0   \n",
       "Clicks                14471.0     44079.0    104687.0     89594.0     16353.0   \n",
       "Conversions            1447.0      3673.0      6979.0     12323.0      2044.0   \n",
       "Impressions          231537.0    573032.0   1360934.0   1471805.0    327066.0   \n",
       "\n",
       "Campaign End Date  ...  2023-12-18  2023-12-19  2023-12-21  2023-12-23  \\\n",
       "Ad Spend           ...      1274.0      1581.0      1416.0      1455.0   \n",
       "Clicks             ...     12740.0    143712.0     67047.0     46046.0   \n",
       "Conversions        ...       849.0     10265.0      8380.0      3289.0   \n",
       "Impressions        ...    242060.0   1437129.0   1340952.0    782790.0   \n",
       "\n",
       "Campaign End Date  2023-12-25  2023-12-29  2024-01-05  2024-01-09  2024-01-11  \\\n",
       "Ad Spend               1352.0      1045.0      1579.0       861.0      1018.0   \n",
       "Clicks                43714.0     92796.0    118182.0     61069.0     39794.0   \n",
       "Conversions            3362.0      8436.0     10743.0      8724.0      5684.0   \n",
       "Impressions          786864.0    927960.0   1536367.0    854973.0    437740.0   \n",
       "\n",
       "Campaign End Date  2024-01-17  \n",
       "Ad Spend               1443.0  \n",
       "Clicks                16113.0  \n",
       "Conversions            1464.0  \n",
       "Impressions          290043.0  \n",
       "\n",
       "[4 rows x 89 columns]"
      ]
     },
     "execution_count": 33,
     "metadata": {},
     "output_type": "execute_result"
    }
   ],
   "source": [
    "pd.pivot_table(data=df1, values=['Conversions','Clicks','Impressions','Ad Spend'], columns=['Campaign End Date'], aggfunc='mean')"
   ]
  },
  {
   "cell_type": "markdown",
   "id": "59d5540c-a8a9-4916-b917-7e0dafdaf2ea",
   "metadata": {},
   "source": [
    "<h2>Campaign End Date</h2>"
   ]
  },
  {
   "cell_type": "code",
   "execution_count": 34,
   "id": "4a957003-4bd1-4492-82ac-1e0ffe3d8457",
   "metadata": {},
   "outputs": [],
   "source": [
    "# Copy data\n",
    "df2 = df[:]"
   ]
  },
  {
   "cell_type": "code",
   "execution_count": 35,
   "id": "a163c49a-1361-484d-96fa-7e38972c0899",
   "metadata": {},
   "outputs": [],
   "source": [
    "df2.index = df['Campaign End Date']"
   ]
  },
  {
   "cell_type": "code",
   "execution_count": 36,
   "id": "a6185df1-4a6c-48d5-aaa7-2f6f46402625",
   "metadata": {},
   "outputs": [
    {
     "data": {
      "text/html": [
       "<div>\n",
       "<style scoped>\n",
       "    .dataframe tbody tr th:only-of-type {\n",
       "        vertical-align: middle;\n",
       "    }\n",
       "\n",
       "    .dataframe tbody tr th {\n",
       "        vertical-align: top;\n",
       "    }\n",
       "\n",
       "    .dataframe thead th {\n",
       "        text-align: right;\n",
       "    }\n",
       "</style>\n",
       "<table border=\"1\" class=\"dataframe\">\n",
       "  <thead>\n",
       "    <tr style=\"text-align: right;\">\n",
       "      <th></th>\n",
       "      <th>Competitor ID</th>\n",
       "      <th>Campaign ID</th>\n",
       "      <th>Ad Spend</th>\n",
       "      <th>Impressions</th>\n",
       "      <th>Clicks</th>\n",
       "      <th>Conversions</th>\n",
       "      <th>Sales</th>\n",
       "      <th>Campaign End Date</th>\n",
       "    </tr>\n",
       "    <tr>\n",
       "      <th>Campaign End Date</th>\n",
       "      <th></th>\n",
       "      <th></th>\n",
       "      <th></th>\n",
       "      <th></th>\n",
       "      <th></th>\n",
       "      <th></th>\n",
       "      <th></th>\n",
       "      <th></th>\n",
       "    </tr>\n",
       "  </thead>\n",
       "  <tbody>\n",
       "    <tr>\n",
       "      <th>2023-07-07</th>\n",
       "      <td>Competitor A</td>\n",
       "      <td>1</td>\n",
       "      <td>1373</td>\n",
       "      <td>432495</td>\n",
       "      <td>24027</td>\n",
       "      <td>3003</td>\n",
       "      <td>786786</td>\n",
       "      <td>2023-07-07</td>\n",
       "    </tr>\n",
       "    <tr>\n",
       "      <th>2023-09-05</th>\n",
       "      <td>Competitor C</td>\n",
       "      <td>2</td>\n",
       "      <td>1275</td>\n",
       "      <td>455175</td>\n",
       "      <td>45517</td>\n",
       "      <td>5057</td>\n",
       "      <td>338819</td>\n",
       "      <td>2023-09-05</td>\n",
       "    </tr>\n",
       "    <tr>\n",
       "      <th>2023-05-25</th>\n",
       "      <td>Competitor B</td>\n",
       "      <td>3</td>\n",
       "      <td>1406</td>\n",
       "      <td>940614</td>\n",
       "      <td>52256</td>\n",
       "      <td>3483</td>\n",
       "      <td>257742</td>\n",
       "      <td>2023-05-25</td>\n",
       "    </tr>\n",
       "    <tr>\n",
       "      <th>2023-07-16</th>\n",
       "      <td>Competitor A</td>\n",
       "      <td>4</td>\n",
       "      <td>1820</td>\n",
       "      <td>1126580</td>\n",
       "      <td>62587</td>\n",
       "      <td>6258</td>\n",
       "      <td>1983786</td>\n",
       "      <td>2023-07-16</td>\n",
       "    </tr>\n",
       "    <tr>\n",
       "      <th>2023-12-04</th>\n",
       "      <td>Competitor C</td>\n",
       "      <td>5</td>\n",
       "      <td>1216</td>\n",
       "      <td>464512</td>\n",
       "      <td>27324</td>\n",
       "      <td>3036</td>\n",
       "      <td>789360</td>\n",
       "      <td>2023-12-04</td>\n",
       "    </tr>\n",
       "  </tbody>\n",
       "</table>\n",
       "</div>"
      ],
      "text/plain": [
       "                  Competitor ID  Campaign ID  Ad Spend  Impressions  Clicks  \\\n",
       "Campaign End Date                                                             \n",
       "2023-07-07         Competitor A            1      1373       432495   24027   \n",
       "2023-09-05         Competitor C            2      1275       455175   45517   \n",
       "2023-05-25         Competitor B            3      1406       940614   52256   \n",
       "2023-07-16         Competitor A            4      1820      1126580   62587   \n",
       "2023-12-04         Competitor C            5      1216       464512   27324   \n",
       "\n",
       "                   Conversions    Sales Campaign End Date  \n",
       "Campaign End Date                                          \n",
       "2023-07-07                3003   786786        2023-07-07  \n",
       "2023-09-05                5057   338819        2023-09-05  \n",
       "2023-05-25                3483   257742        2023-05-25  \n",
       "2023-07-16                6258  1983786        2023-07-16  \n",
       "2023-12-04                3036   789360        2023-12-04  "
      ]
     },
     "execution_count": 36,
     "metadata": {},
     "output_type": "execute_result"
    }
   ],
   "source": [
    "df2.head()"
   ]
  },
  {
   "cell_type": "code",
   "execution_count": 37,
   "id": "27a83b3a-c8d3-439f-92da-2306d67815f1",
   "metadata": {},
   "outputs": [],
   "source": [
    "df2.drop(columns='Campaign End Date', inplace=True)"
   ]
  },
  {
   "cell_type": "code",
   "execution_count": 39,
   "id": "dcb8db9f-2188-41bf-9c8c-0cced9d87829",
   "metadata": {},
   "outputs": [
    {
     "data": {
      "text/plain": [
       "Text(0, 0.5, 'Clicks')"
      ]
     },
     "execution_count": 39,
     "metadata": {},
     "output_type": "execute_result"
    },
    {
     "data": {
      "image/png": "[encoded data removed]",
      "text/plain": [
       "<Figure size 640x480 with 1 Axes>"
      ]
     },
     "metadata": {},
     "output_type": "display_data"
    }
   ],
   "source": [
    "df2['Clicks'].plot()\n",
    "plt.title('Click During Campaign End Date')\n",
    "plt.xlabel('Date')\n",
    "plt.ylabel('Clicks')"
   ]
  },
  {
   "cell_type": "code",
   "execution_count": 42,
   "id": "95ef2988-345f-48d1-bfc0-a9d647c70c90",
   "metadata": {},
   "outputs": [
    {
     "data": {
      "text/plain": [
       "array(['Competitor A', 'Competitor C', 'Competitor B'], dtype=object)"
      ]
     },
     "execution_count": 42,
     "metadata": {},
     "output_type": "execute_result"
    }
   ],
   "source": [
    "# unique values for Competitor\n",
    "df2['Competitor ID'].unique()"
   ]
  },
  {
   "cell_type": "code",
   "execution_count": 43,
   "id": "1ed9987b-8822-481a-be39-26721239fc6e",
   "metadata": {},
   "outputs": [
    {
     "data": {
      "text/plain": [
       "Competitor ID\n",
       "Competitor C    46\n",
       "Competitor B    33\n",
       "Competitor A    21\n",
       "Name: count, dtype: int64"
      ]
     },
     "execution_count": 43,
     "metadata": {},
     "output_type": "execute_result"
    }
   ],
   "source": [
    "df2['Competitor ID'].value_counts()"
   ]
  },
  {
   "cell_type": "code",
   "execution_count": 44,
   "id": "df28daac-5d38-467e-8761-86863c169e57",
   "metadata": {},
   "outputs": [
    {
     "data": {
      "text/html": [
       "<div>\n",
       "<style scoped>\n",
       "    .dataframe tbody tr th:only-of-type {\n",
       "        vertical-align: middle;\n",
       "    }\n",
       "\n",
       "    .dataframe tbody tr th {\n",
       "        vertical-align: top;\n",
       "    }\n",
       "\n",
       "    .dataframe thead th {\n",
       "        text-align: right;\n",
       "    }\n",
       "</style>\n",
       "<table border=\"1\" class=\"dataframe\">\n",
       "  <thead>\n",
       "    <tr style=\"text-align: right;\">\n",
       "      <th></th>\n",
       "      <th>Impressions</th>\n",
       "      <th>Clicks</th>\n",
       "      <th>Conversions</th>\n",
       "      <th>Sales</th>\n",
       "    </tr>\n",
       "    <tr>\n",
       "      <th>Competitor ID</th>\n",
       "      <th></th>\n",
       "      <th></th>\n",
       "      <th></th>\n",
       "      <th></th>\n",
       "    </tr>\n",
       "  </thead>\n",
       "  <tbody>\n",
       "    <tr>\n",
       "      <th>Competitor A</th>\n",
       "      <td>1680480</td>\n",
       "      <td>143712</td>\n",
       "      <td>13337</td>\n",
       "      <td>4024544</td>\n",
       "    </tr>\n",
       "    <tr>\n",
       "      <th>Competitor B</th>\n",
       "      <td>1751588</td>\n",
       "      <td>125618</td>\n",
       "      <td>23354</td>\n",
       "      <td>6375642</td>\n",
       "    </tr>\n",
       "    <tr>\n",
       "      <th>Competitor C</th>\n",
       "      <td>1701088</td>\n",
       "      <td>154644</td>\n",
       "      <td>15548</td>\n",
       "      <td>5499270</td>\n",
       "    </tr>\n",
       "  </tbody>\n",
       "</table>\n",
       "</div>"
      ],
      "text/plain": [
       "               Impressions  Clicks  Conversions    Sales\n",
       "Competitor ID                                           \n",
       "Competitor A       1680480  143712        13337  4024544\n",
       "Competitor B       1751588  125618        23354  6375642\n",
       "Competitor C       1701088  154644        15548  5499270"
      ]
     },
     "execution_count": 44,
     "metadata": {},
     "output_type": "execute_result"
    }
   ],
   "source": [
    "# Max value based on each competitor\n",
    "df2.groupby('Competitor ID')[['Impressions','Clicks','Conversions','Sales']].max()"
   ]
  },
  {
   "cell_type": "markdown",
   "id": "eed35063-a21e-495f-a843-5f64022281da",
   "metadata": {},
   "source": [
    "<h2>Visualisation</h2>"
   ]
  },
  {
   "cell_type": "code",
   "execution_count": 45,
   "id": "17c3e8f8-da64-45f1-8e1e-f021a75ad4b8",
   "metadata": {},
   "outputs": [
    {
     "data": {
      "text/plain": [
       "<Axes: xlabel='Impressions', ylabel='Count'>"
      ]
     },
     "execution_count": 45,
     "metadata": {},
     "output_type": "execute_result"
    },
    {
     "data": {
      "image/png": "[encoded data removed]",
      "text/plain": [
       "<Figure size 640x480 with 1 Axes>"
      ]
     },
     "metadata": {},
     "output_type": "display_data"
    }
   ],
   "source": [
    "# Plot with seaborn \n",
    "sb.histplot(data=df2, x='Impressions', hue='Competitor ID')"
   ]
  },
  {
   "cell_type": "code",
   "execution_count": 67,
   "id": "c07e5a05-ee7e-4363-bf0f-3686e9f0cf41",
   "metadata": {},
   "outputs": [
    {
     "data": {
      "image/png": "[encoded data removed]",
      "text/plain": [
       "<Figure size 640x480 with 1 Axes>"
      ]
     },
     "metadata": {},
     "output_type": "display_data"
    }
   ],
   "source": [
    "sb.histplot(data=df2, x='Conversions', hue='Competitor ID')\n",
    "plt.savefig('Plot1.png')"
   ]
  },
  {
   "cell_type": "code",
   "execution_count": 62,
   "id": "b0790056-ddc3-486f-9179-caaaff20dfff",
   "metadata": {},
   "outputs": [
    {
     "data": {
      "text/plain": [
       "<Axes: xlabel='Clicks'>"
      ]
     },
     "execution_count": 62,
     "metadata": {},
     "output_type": "execute_result"
    },
    {
     "data": {
      "image/png": "[encoded data removed]",
      "text/plain": [
       "<Figure size 640x480 with 1 Axes>"
      ]
     },
     "metadata": {},
     "output_type": "display_data"
    }
   ],
   "source": [
    "sb.boxplot(data=df2, x='Clicks', hue='Competitor ID')"
   ]
  },
  {
   "cell_type": "code",
   "execution_count": 68,
   "id": "7c24ed49-3a2c-448c-9dd2-a8b6c793777d",
   "metadata": {},
   "outputs": [
    {
     "data": {
      "image/png": "[encoded data removed]",
      "text/plain": [
       "<Figure size 640x480 with 1 Axes>"
      ]
     },
     "metadata": {},
     "output_type": "display_data"
    }
   ],
   "source": [
    "sb.boxenplot(data=df2, x='Impressions', hue='Competitor ID')\n",
    "plt.savefig('plot2.png')"
   ]
  },
  {
   "cell_type": "code",
   "execution_count": 66,
   "id": "0176769d-26fb-406e-a105-71857ab97ac7",
   "metadata": {},
   "outputs": [
    {
     "data": {
      "text/plain": [
       "<seaborn.axisgrid.FacetGrid at 0x2bf58413e10>"
      ]
     },
     "execution_count": 66,
     "metadata": {},
     "output_type": "execute_result"
    },
    {
     "data": {
      "image/png": "[encoded data removed]",
      "text/plain": [
       "<Figure size 642.375x500 with 1 Axes>"
      ]
     },
     "metadata": {},
     "output_type": "display_data"
    }
   ],
   "source": [
    "sb.displot(data=df2, x='Ad Spend', hue='Competitor ID')"
   ]
  },
  {
   "cell_type": "code",
   "execution_count": 69,
   "id": "ad9e1ac4-9039-4016-b54a-c3dd6ea1fdd0",
   "metadata": {},
   "outputs": [
    {
     "data": {
      "text/html": [
       "<div>\n",
       "<style scoped>\n",
       "    .dataframe tbody tr th:only-of-type {\n",
       "        vertical-align: middle;\n",
       "    }\n",
       "\n",
       "    .dataframe tbody tr th {\n",
       "        vertical-align: top;\n",
       "    }\n",
       "\n",
       "    .dataframe thead th {\n",
       "        text-align: right;\n",
       "    }\n",
       "</style>\n",
       "<table border=\"1\" class=\"dataframe\">\n",
       "  <thead>\n",
       "    <tr style=\"text-align: right;\">\n",
       "      <th></th>\n",
       "      <th>Impressions</th>\n",
       "      <th>Clicks</th>\n",
       "      <th>Conversions</th>\n",
       "      <th>Sales</th>\n",
       "    </tr>\n",
       "  </thead>\n",
       "  <tbody>\n",
       "    <tr>\n",
       "      <th>Impressions</th>\n",
       "      <td>1.000000</td>\n",
       "      <td>0.919667</td>\n",
       "      <td>0.814778</td>\n",
       "      <td>0.711661</td>\n",
       "    </tr>\n",
       "    <tr>\n",
       "      <th>Clicks</th>\n",
       "      <td>0.919667</td>\n",
       "      <td>1.000000</td>\n",
       "      <td>0.822308</td>\n",
       "      <td>0.710667</td>\n",
       "    </tr>\n",
       "    <tr>\n",
       "      <th>Conversions</th>\n",
       "      <td>0.814778</td>\n",
       "      <td>0.822308</td>\n",
       "      <td>1.000000</td>\n",
       "      <td>0.738994</td>\n",
       "    </tr>\n",
       "    <tr>\n",
       "      <th>Sales</th>\n",
       "      <td>0.711661</td>\n",
       "      <td>0.710667</td>\n",
       "      <td>0.738994</td>\n",
       "      <td>1.000000</td>\n",
       "    </tr>\n",
       "  </tbody>\n",
       "</table>\n",
       "</div>"
      ],
      "text/plain": [
       "             Impressions    Clicks  Conversions     Sales\n",
       "Impressions     1.000000  0.919667     0.814778  0.711661\n",
       "Clicks          0.919667  1.000000     0.822308  0.710667\n",
       "Conversions     0.814778  0.822308     1.000000  0.738994\n",
       "Sales           0.711661  0.710667     0.738994  1.000000"
      ]
     },
     "execution_count": 69,
     "metadata": {},
     "output_type": "execute_result"
    }
   ],
   "source": [
    "df[['Impressions','Clicks','Conversions','Sales']].corr()"
   ]
  },
  {
   "cell_type": "code",
   "execution_count": 70,
   "id": "e293b4f9-e008-497e-8916-817051d36cd7",
   "metadata": {},
   "outputs": [
    {
     "data": {
      "text/html": [
       "<div>\n",
       "<style scoped>\n",
       "    .dataframe tbody tr th:only-of-type {\n",
       "        vertical-align: middle;\n",
       "    }\n",
       "\n",
       "    .dataframe tbody tr th {\n",
       "        vertical-align: top;\n",
       "    }\n",
       "\n",
       "    .dataframe thead th {\n",
       "        text-align: right;\n",
       "    }\n",
       "</style>\n",
       "<table border=\"1\" class=\"dataframe\">\n",
       "  <thead>\n",
       "    <tr style=\"text-align: right;\">\n",
       "      <th></th>\n",
       "      <th>Impressions</th>\n",
       "      <th>Clicks</th>\n",
       "      <th>Conversions</th>\n",
       "      <th>Sales</th>\n",
       "    </tr>\n",
       "  </thead>\n",
       "  <tbody>\n",
       "    <tr>\n",
       "      <th>Impressions</th>\n",
       "      <td>1.788118e+11</td>\n",
       "      <td>1.257620e+10</td>\n",
       "      <td>1.427641e+09</td>\n",
       "      <td>3.981628e+11</td>\n",
       "    </tr>\n",
       "    <tr>\n",
       "      <th>Clicks</th>\n",
       "      <td>1.257620e+10</td>\n",
       "      <td>1.045782e+09</td>\n",
       "      <td>1.101887e+08</td>\n",
       "      <td>3.040717e+10</td>\n",
       "    </tr>\n",
       "    <tr>\n",
       "      <th>Conversions</th>\n",
       "      <td>1.427641e+09</td>\n",
       "      <td>1.101887e+08</td>\n",
       "      <td>1.716972e+07</td>\n",
       "      <td>4.051461e+09</td>\n",
       "    </tr>\n",
       "    <tr>\n",
       "      <th>Sales</th>\n",
       "      <td>3.981628e+11</td>\n",
       "      <td>3.040717e+10</td>\n",
       "      <td>4.051461e+09</td>\n",
       "      <td>1.750567e+12</td>\n",
       "    </tr>\n",
       "  </tbody>\n",
       "</table>\n",
       "</div>"
      ],
      "text/plain": [
       "              Impressions        Clicks   Conversions         Sales\n",
       "Impressions  1.788118e+11  1.257620e+10  1.427641e+09  3.981628e+11\n",
       "Clicks       1.257620e+10  1.045782e+09  1.101887e+08  3.040717e+10\n",
       "Conversions  1.427641e+09  1.101887e+08  1.716972e+07  4.051461e+09\n",
       "Sales        3.981628e+11  3.040717e+10  4.051461e+09  1.750567e+12"
      ]
     },
     "execution_count": 70,
     "metadata": {},
     "output_type": "execute_result"
    }
   ],
   "source": [
    "df[['Impressions','Clicks','Conversions','Sales']].cov()"
   ]
  },
  {
   "cell_type": "code",
   "execution_count": 71,
   "id": "23834ca1-9ed2-4402-986e-1307910363da",
   "metadata": {},
   "outputs": [
    {
     "data": {
      "text/plain": [
       "<Axes: >"
      ]
     },
     "execution_count": 71,
     "metadata": {},
     "output_type": "execute_result"
    },
    {
     "data": {
      "image/png": "[encoded data removed]",
      "text/plain": [
       "<Figure size 640x480 with 2 Axes>"
      ]
     },
     "metadata": {},
     "output_type": "display_data"
    }
   ],
   "source": [
    "sb.heatmap(df[['Impressions','Clicks','Conversions','Sales']].corr())"
   ]
  },
  {
   "cell_type": "code",
   "execution_count": null,
   "id": "272b4266-c7d9-4a66-8857-037b4b25f233",
   "metadata": {},
   "outputs": [],
   "source": []
  }
 ],
 "metadata": {
  "kernelspec": {
   "display_name": "Python 3 (ipykernel)",
   "language": "python",
   "name": "python3"
  },
  "language_info": {
   "codemirror_mode": {
    "name": "ipython",
    "version": 3
   },
   "file_extension": ".py",
   "mimetype": "text/x-python",
   "name": "python",
   "nbconvert_exporter": "python",
   "pygments_lexer": "ipython3",
   "version": "3.11.7"
  }
 },
 "nbformat": 4,
 "nbformat_minor": 5
}
